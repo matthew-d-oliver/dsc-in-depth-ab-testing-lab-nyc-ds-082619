{
 "cells": [
  {
   "cell_type": "markdown",
   "metadata": {},
   "source": [
    "# In Depth A/B Testing - Lab\n",
    "\n",
    "## Introduction\n",
    "\n",
    "In this lab, you'll explore a survey from Kaggle regarding budding data scientists. With this, you'll form some initial hypotheses, and test them using the tools you've acquired to date. \n",
    "\n",
    "## Objectives\n",
    "\n",
    "You will be able to:\n",
    "* Conduct statistical tests on a real-world dataset"
   ]
  },
  {
   "cell_type": "markdown",
   "metadata": {},
   "source": [
    "## Load the Dataset and Perform a Brief Exploration\n",
    "\n",
    "The data is stored in a file called **multipleChoiceResponses_cleaned.csv**. Feel free to check out the original dataset referenced at the bottom of this lab, although this cleaned version will undoubtedly be easier to work with. Additionally, meta-data regarding the questions is stored in a file name **schema.csv**. Load in the data itself as a Pandas DataFrame, and take a moment to briefly get acquainted with it.\n",
    "\n",
    "> Note: If you can't get the file to load properly, try changing the encoding format as in `encoding='latin1'`"
   ]
  },
  {
   "cell_type": "code",
   "execution_count": 2,
   "metadata": {},
   "outputs": [
    {
     "name": "stderr",
     "output_type": "stream",
     "text": [
      "/opt/conda/envs/learn-env/lib/python3.6/site-packages/IPython/core/interactiveshell.py:2785: DtypeWarning: Columns (1,2,3,4,5,6,7,8,9,10,11,12,13,14,15,16,17,18,19,20,21,22,23,24,25,26,27,28,29,30,31,32,33,34,35,36,37,38,39,40,41,42,43,44,45,46,47,48,49,50,51,52,53,54,55,56,57,58,65,66,67,68,69,70,71,72,73,74,75,76,77,78,79,80,81,82,83,84,85,86,87,88,89,90,91,92,93,94,95,96,97,98,99,100,101,102,103,104,105,106,107,108,109,110,111,112,113,114,115,116,117,118,119,120,121,122,123,124,125,126,127,128,129,130,131,132,133,134,135,136,137,138,139,140,141,142,143,144,145,146,147,148,149,150,151,152,153,154,155,156,157,158,159,160,161,162,163,164,165,172,173,174,175,176,177,178,179,180,181,182,183,184,185,186,187,188,189,190,191,192,193,194,195,196,197,198,199,200,201,202,203,204,205,207,208,209,210,211,212,213,214,215,216,217,218,219,220,221,222,223,224,225,226,227) have mixed types. Specify dtype option on import or set low_memory=False.\n",
      "  interactivity=interactivity, compiler=compiler, result=result)\n"
     ]
    }
   ],
   "source": [
    "import pandas as pd\n",
    "mcr=pd.read_csv('multipleChoiceResponses_cleaned.csv',encoding='latin1')"
   ]
  },
  {
   "cell_type": "code",
   "execution_count": 12,
   "metadata": {},
   "outputs": [],
   "source": [
    "want= mcr[['AdjustedCompensation','FormalEducation']]"
   ]
  },
  {
   "cell_type": "markdown",
   "metadata": {},
   "source": [
    "## Wages and Education\n",
    "\n",
    "You've been asked to determine whether education is impactful to salary. Develop a hypothesis test to compare the salaries of those with Master's degrees to those with Bachelor's degrees. Are the two statistically different according to your results?\n",
    "\n",
    "> Note: The relevant features are stored in the 'FormalEducation' and 'AdjustedCompensation' features."
   ]
  },
  {
   "cell_type": "code",
   "execution_count": 13,
   "metadata": {},
   "outputs": [
    {
     "data": {
      "text/html": [
       "<div>\n",
       "<style scoped>\n",
       "    .dataframe tbody tr th:only-of-type {\n",
       "        vertical-align: middle;\n",
       "    }\n",
       "\n",
       "    .dataframe tbody tr th {\n",
       "        vertical-align: top;\n",
       "    }\n",
       "\n",
       "    .dataframe thead tr th {\n",
       "        text-align: left;\n",
       "    }\n",
       "\n",
       "    .dataframe thead tr:last-of-type th {\n",
       "        text-align: right;\n",
       "    }\n",
       "</style>\n",
       "<table border=\"1\" class=\"dataframe\">\n",
       "  <thead>\n",
       "    <tr>\n",
       "      <th></th>\n",
       "      <th colspan=\"8\" halign=\"left\">AdjustedCompensation</th>\n",
       "    </tr>\n",
       "    <tr>\n",
       "      <th></th>\n",
       "      <th>count</th>\n",
       "      <th>mean</th>\n",
       "      <th>std</th>\n",
       "      <th>min</th>\n",
       "      <th>25%</th>\n",
       "      <th>50%</th>\n",
       "      <th>75%</th>\n",
       "      <th>max</th>\n",
       "    </tr>\n",
       "    <tr>\n",
       "      <th>FormalEducation</th>\n",
       "      <th></th>\n",
       "      <th></th>\n",
       "      <th></th>\n",
       "      <th></th>\n",
       "      <th></th>\n",
       "      <th></th>\n",
       "      <th></th>\n",
       "      <th></th>\n",
       "    </tr>\n",
       "  </thead>\n",
       "  <tbody>\n",
       "    <tr>\n",
       "      <th>Bachelor's degree</th>\n",
       "      <td>1107.0</td>\n",
       "      <td>6.488710e+04</td>\n",
       "      <td>3.069359e+05</td>\n",
       "      <td>0.000000</td>\n",
       "      <td>11266.20</td>\n",
       "      <td>38399.400</td>\n",
       "      <td>80231.000</td>\n",
       "      <td>9.999999e+06</td>\n",
       "    </tr>\n",
       "    <tr>\n",
       "      <th>Doctoral degree</th>\n",
       "      <td>967.0</td>\n",
       "      <td>2.956618e+07</td>\n",
       "      <td>9.099981e+08</td>\n",
       "      <td>-73.516311</td>\n",
       "      <td>40000.00</td>\n",
       "      <td>74131.920</td>\n",
       "      <td>120000.000</td>\n",
       "      <td>2.829740e+10</td>\n",
       "    </tr>\n",
       "    <tr>\n",
       "      <th>I did not complete any formal education past high school</th>\n",
       "      <td>30.0</td>\n",
       "      <td>5.931777e+04</td>\n",
       "      <td>5.842303e+04</td>\n",
       "      <td>0.000000</td>\n",
       "      <td>11210.81</td>\n",
       "      <td>39133.216</td>\n",
       "      <td>92999.560</td>\n",
       "      <td>1.793739e+05</td>\n",
       "    </tr>\n",
       "    <tr>\n",
       "      <th>I prefer not to answer</th>\n",
       "      <td>7.0</td>\n",
       "      <td>2.228557e+05</td>\n",
       "      <td>3.720622e+05</td>\n",
       "      <td>36720.000000</td>\n",
       "      <td>55000.00</td>\n",
       "      <td>83707.820</td>\n",
       "      <td>134843.475</td>\n",
       "      <td>1.059875e+06</td>\n",
       "    </tr>\n",
       "    <tr>\n",
       "      <th>Master's degree</th>\n",
       "      <td>1990.0</td>\n",
       "      <td>6.913990e+04</td>\n",
       "      <td>1.355272e+05</td>\n",
       "      <td>0.000000</td>\n",
       "      <td>21868.00</td>\n",
       "      <td>53812.170</td>\n",
       "      <td>92000.000</td>\n",
       "      <td>4.498900e+06</td>\n",
       "    </tr>\n",
       "    <tr>\n",
       "      <th>Professional degree</th>\n",
       "      <td>130.0</td>\n",
       "      <td>6.120670e+04</td>\n",
       "      <td>7.536859e+04</td>\n",
       "      <td>0.000000</td>\n",
       "      <td>17237.00</td>\n",
       "      <td>40000.000</td>\n",
       "      <td>88431.868</td>\n",
       "      <td>6.990900e+05</td>\n",
       "    </tr>\n",
       "    <tr>\n",
       "      <th>Some college/university study without earning a bachelor's degree</th>\n",
       "      <td>111.0</td>\n",
       "      <td>8.291218e+04</td>\n",
       "      <td>2.296962e+05</td>\n",
       "      <td>0.000000</td>\n",
       "      <td>11811.32</td>\n",
       "      <td>40986.000</td>\n",
       "      <td>109958.235</td>\n",
       "      <td>2.395469e+06</td>\n",
       "    </tr>\n",
       "  </tbody>\n",
       "</table>\n",
       "</div>"
      ],
      "text/plain": [
       "                                                   AdjustedCompensation  \\\n",
       "                                                                  count   \n",
       "FormalEducation                                                           \n",
       "Bachelor's degree                                                1107.0   \n",
       "Doctoral degree                                                   967.0   \n",
       "I did not complete any formal education past hi...                 30.0   \n",
       "I prefer not to answer                                              7.0   \n",
       "Master's degree                                                  1990.0   \n",
       "Professional degree                                               130.0   \n",
       "Some college/university study without earning a...                111.0   \n",
       "\n",
       "                                                                  \\\n",
       "                                                            mean   \n",
       "FormalEducation                                                    \n",
       "Bachelor's degree                                   6.488710e+04   \n",
       "Doctoral degree                                     2.956618e+07   \n",
       "I did not complete any formal education past hi...  5.931777e+04   \n",
       "I prefer not to answer                              2.228557e+05   \n",
       "Master's degree                                     6.913990e+04   \n",
       "Professional degree                                 6.120670e+04   \n",
       "Some college/university study without earning a...  8.291218e+04   \n",
       "\n",
       "                                                                  \\\n",
       "                                                             std   \n",
       "FormalEducation                                                    \n",
       "Bachelor's degree                                   3.069359e+05   \n",
       "Doctoral degree                                     9.099981e+08   \n",
       "I did not complete any formal education past hi...  5.842303e+04   \n",
       "I prefer not to answer                              3.720622e+05   \n",
       "Master's degree                                     1.355272e+05   \n",
       "Professional degree                                 7.536859e+04   \n",
       "Some college/university study without earning a...  2.296962e+05   \n",
       "\n",
       "                                                                            \\\n",
       "                                                             min       25%   \n",
       "FormalEducation                                                              \n",
       "Bachelor's degree                                       0.000000  11266.20   \n",
       "Doctoral degree                                       -73.516311  40000.00   \n",
       "I did not complete any formal education past hi...      0.000000  11210.81   \n",
       "I prefer not to answer                              36720.000000  55000.00   \n",
       "Master's degree                                         0.000000  21868.00   \n",
       "Professional degree                                     0.000000  17237.00   \n",
       "Some college/university study without earning a...      0.000000  11811.32   \n",
       "\n",
       "                                                                           \\\n",
       "                                                          50%         75%   \n",
       "FormalEducation                                                             \n",
       "Bachelor's degree                                   38399.400   80231.000   \n",
       "Doctoral degree                                     74131.920  120000.000   \n",
       "I did not complete any formal education past hi...  39133.216   92999.560   \n",
       "I prefer not to answer                              83707.820  134843.475   \n",
       "Master's degree                                     53812.170   92000.000   \n",
       "Professional degree                                 40000.000   88431.868   \n",
       "Some college/university study without earning a...  40986.000  109958.235   \n",
       "\n",
       "                                                                  \n",
       "                                                             max  \n",
       "FormalEducation                                                   \n",
       "Bachelor's degree                                   9.999999e+06  \n",
       "Doctoral degree                                     2.829740e+10  \n",
       "I did not complete any formal education past hi...  1.793739e+05  \n",
       "I prefer not to answer                              1.059875e+06  \n",
       "Master's degree                                     4.498900e+06  \n",
       "Professional degree                                 6.990900e+05  \n",
       "Some college/university study without earning a...  2.395469e+06  "
      ]
     },
     "execution_count": 13,
     "metadata": {},
     "output_type": "execute_result"
    }
   ],
   "source": [
    "want.groupby('FormalEducation').describe()"
   ]
  },
  {
   "cell_type": "markdown",
   "metadata": {},
   "source": [
    "## Wages and Education II\n",
    "\n",
    "Now perform a similar statistical test comparing the AdjustedCompensation of those with Bachelor's degrees and those with Doctorates. If you haven't already, be sure to explore the distribution of the AdjustedCompensation feature for any anomalies. "
   ]
  },
  {
   "cell_type": "code",
   "execution_count": 36,
   "metadata": {},
   "outputs": [],
   "source": [
    "import seaborn as sns\n",
    "import matplotlib.pyplot as plt"
   ]
  },
  {
   "cell_type": "code",
   "execution_count": 47,
   "metadata": {},
   "outputs": [
    {
     "name": "stderr",
     "output_type": "stream",
     "text": [
      "/opt/conda/envs/learn-env/lib/python3.6/site-packages/scipy/stats/stats.py:1713: FutureWarning: Using a non-tuple sequence for multidimensional indexing is deprecated; use `arr[tuple(seq)]` instead of `arr[seq]`. In the future this will be interpreted as an array index, `arr[np.array(seq)]`, which will result either in an error or a different result.\n",
      "  return np.add.reduce(sorted[indexer] * weights, axis=axis) / sumval\n"
     ]
    },
    {
     "data": {
      "text/plain": [
       "(0, 1e-06)"
      ]
     },
     "execution_count": 47,
     "metadata": {},
     "output_type": "execute_result"
    },
    {
     "data": {
      "image/png": "[encoded data removed]",
      "text/plain": [
       "<Figure size 432x288 with 1 Axes>"
      ]
     },
     "metadata": {
      "needs_background": "light"
     },
     "output_type": "display_data"
    }
   ],
   "source": [
    "\n",
    "# want.dropna(inplace=True)\n",
    "bach=want['AdjustedCompensation'].loc[want['FormalEducation']=='Bachelor\\'s degree']\n",
    "doct=want['AdjustedCompensation'].loc[want['FormalEducation']=='Doctoral degree']\n",
    "sns.distplot(bach)\n",
    "sns.distplot(doct)\n",
    "plt.xlim((0,20000000))\n",
    "plt.ylim((0,.000001))"
   ]
  },
  {
   "cell_type": "markdown",
   "metadata": {},
   "source": [
    "## Wages and Education III\n",
    "\n",
    "Remember the multiple comparisons problem; rather than continuing on like this, perform an ANOVA test between the various 'FormalEducation' categories and their relation to 'AdjustedCompensation'."
   ]
  },
  {
   "cell_type": "code",
   "execution_count": null,
   "metadata": {},
   "outputs": [],
   "source": [
    "#Your code here"
   ]
  },
  {
   "cell_type": "markdown",
   "metadata": {},
   "source": [
    "## Additional Resources\n",
    "\n",
    "Here's the original source where the data was taken from:  \n",
    "    [Kaggle Machine Learning & Data Science Survey 2017](https://www.kaggle.com/kaggle/kaggle-survey-2017)"
   ]
  },
  {
   "cell_type": "markdown",
   "metadata": {},
   "source": [
    "## Summary\n",
    "\n",
    "In this lab, you practiced conducting actual hypothesis tests on actual data. From this, you saw how dependent results can be on the initial problem formulation, including preprocessing!"
   ]
  }
 ],
 "metadata": {
  "kernelspec": {
   "display_name": "Python 3",
   "language": "python",
   "name": "python3"
  },
  "language_info": {
   "codemirror_mode": {
    "name": "ipython",
    "version": 3
   },
   "file_extension": ".py",
   "mimetype": "text/x-python",
   "name": "python",
   "nbconvert_exporter": "python",
   "pygments_lexer": "ipython3",
   "version": "3.6.6"
  }
 },
 "nbformat": 4,
 "nbformat_minor": 2
}
